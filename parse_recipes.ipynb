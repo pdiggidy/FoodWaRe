{
 "cells": [
  {
   "cell_type": "code",
   "execution_count": 31,
   "id": "66707ffc",
   "metadata": {},
   "outputs": [],
   "source": [
    "import pandas as pd"
   ]
  },
  {
   "cell_type": "code",
   "execution_count": 32,
   "id": "c82d0aaf",
   "metadata": {},
   "outputs": [],
   "source": [
    "df = pd.read_csv(\"Recipes.csv\")"
   ]
  },
  {
   "cell_type": "code",
   "execution_count": 33,
   "id": "a27008df",
   "metadata": {},
   "outputs": [],
   "source": [
    "# df[\"Ingredients\"] = \"[\" + df[\"Ingredients\"].str[1:-1] + \"]\"\n",
    "# print(df)"
   ]
  },
  {
   "cell_type": "code",
   "execution_count": 34,
   "id": "41dd9a0f",
   "metadata": {},
   "outputs": [],
   "source": [
    "df[\"id_list\"] = [[item_id.replace(\"'\", \"\") for item_id in list(row[\"id_list\"][1:-1].split(\", \")) if int(item_id.replace(\"'\", \"\")) != -1] for index, row in df.iterrows()]\n"
   ]
  },
  {
   "cell_type": "code",
   "execution_count": 35,
   "id": "a1c9d83b",
   "metadata": {},
   "outputs": [
    {
     "name": "stdout",
     "output_type": "stream",
     "text": [
      "     index                                           Name   Preparation time  \\\n",
      "0        1                       Easy spaghetti bolognese  less than 30 mins   \n",
      "1        2                             Quick chicken stew  less than 30 mins   \n",
      "2        3                               Toad in the hole          1-2 hours   \n",
      "3        4                                Irish beef stew  less than 30 mins   \n",
      "4        5                         Easy chicken casserole  less than 30 mins   \n",
      "..     ...                                            ...                ...   \n",
      "113    114                     Dal with quick naan breads  less than 30 mins   \n",
      "114    115               Cheesy garlic bolognese beef pie  less than 30 mins   \n",
      "115    116                        Fakeaway fish and chips  less than 30 mins   \n",
      "116    117  Penne with roasted vegetable and tomato sauce  less than 30 mins   \n",
      "117    118                 Mexican-style veggie traybake   less than 30 mins   \n",
      "\n",
      "          Cooking time  Serves  \\\n",
      "0    30 mins to 1 hour       4   \n",
      "1        10 to 30 mins       4   \n",
      "2    30 mins to 1 hour       4   \n",
      "3         1 to 2 hours       6   \n",
      "4         1 to 2 hours       4   \n",
      "..                 ...     ...   \n",
      "113      10 to 30 mins       6   \n",
      "114      10 to 30 mins       6   \n",
      "115      10 to 30 mins       5   \n",
      "116      10 to 30 mins       4   \n",
      "117      10 to 30 mins       4   \n",
      "\n",
      "                                           Ingredients    Meal  \\\n",
      "0    {\"olive oil\": \"2 tbsp\", \"beef mince\": \"400g/14...  dinner   \n",
      "1    {\"olive oil\": \"1 tbsp light\", \"onion\": \"1 , ro...  dinner   \n",
      "2    {\"plain flour\": \"175g/6oz\", \"black pepper\": \"s...  dinner   \n",
      "3    {\"vegetable oil\": \"2 tbsp\", \"braising steak\": ...  dinner   \n",
      "4    {\"chicken thighs\": \"8 bone-in, skin-on  (aroun...  dinner   \n",
      "..                                                 ...     ...   \n",
      "113  {\"rapeseed oil\": \"1 tbsp\", \"cumin\": \"2 tsp gro...  dinner   \n",
      "114  {\"garlic bread\": \"6 ready-made frozen cheesy  ...  dinner   \n",
      "115  {\"eggs\": \"3 free-range\", \"150g/5\\u00bdoz cornf...  dinner   \n",
      "116  {\"300g/10\\u00bdoz penne\": \"None\", \"chopped tom...  dinner   \n",
      "117  {\"peppers\": \"3 , any colour, seeds removed and...  dinner   \n",
      "\n",
      "                                                Method     Dietary  \\\n",
      "0    Heat a large saucepan over a medium heat. Add ...         NaN   \n",
      "1    Heat the oil in a wide frying pan over a mediu...         NaN   \n",
      "2    For the batter, sieve the flour into a bowl an...         NaN   \n",
      "3    Preheat the oven to 200C/180C Fan/Gas 6. Place...         NaN   \n",
      "4    Preheat the oven 190C/170C Fan/Gas 5. Season t...         NaN   \n",
      "..                                                 ...         ...   \n",
      "113  For the dal, heat the oil in a sauté pan over ...  Vegetarian   \n",
      "114  Unwrap the frozen cheesy garlic bread slices a...         NaN   \n",
      "115  Preheat the oven to 220C/200C Fan/Gas 7. Line ...         NaN   \n",
      "116  Bring a large saucepan of salted water to the ...  Vegetarian   \n",
      "117  Preheat the oven to 220C/200C Fan/Gas 7. Toss ...  Vegetarian   \n",
      "\n",
      "                                               id_list  \n",
      "0         [114, 287, 218, 248, 195, 105, 181, 132, 87]  \n",
      "1    [114, 218, 248, 220, 283, 144, 128, 201, 25, 2...  \n",
      "2    [144, 89, 110, 168, 114, 81, 218, 128, 181, 16...  \n",
      "3          [193, 251, 218, 269, 195, 78, 282, 153, 89]  \n",
      "4    [220, 24, 218, 191, 37, 195, 144, 229, 283, 13...  \n",
      "..                                                 ...  \n",
      "113  [123, 129, 127, 218, 248, 79, 41, 299, 136, 74...  \n",
      "114  [67, 218, 287, 144, 174, 138, 230, 189, 71, 78...  \n",
      "115       [110, 212, 161, 282, 123, 274, 102, 163, 89]  \n",
      "116              [27, 174, 114, 239, 248, 69, 89, 121]  \n",
      "117  [247, 256, 6, 193, 188, 31, 29, 236, 262, 76, ...  \n",
      "\n",
      "[118 rows x 10 columns]\n"
     ]
    }
   ],
   "source": [
    "print(df)"
   ]
  },
  {
   "cell_type": "code",
   "execution_count": 55,
   "id": "9da2d850",
   "metadata": {},
   "outputs": [
    {
     "name": "stderr",
     "output_type": "stream",
     "text": [
      "C:\\Users\\MACIEJ~1\\AppData\\Local\\Temp/ipykernel_15636/1566456931.py:3: FutureWarning: In a future version of pandas all arguments of DataFrame.drop except for the argument 'labels' will be keyword-only\n",
      "  df = df.drop(\"index\", 1)\n"
     ]
    }
   ],
   "source": [
    "import json\n",
    "\n",
    "df = df.drop(\"index\", 1)\n",
    "\n",
    "json_data = json.loads(df.to_json(orient=\"index\"))\n",
    "with open('recipes.json', 'w') as f:\n",
    "    f.write(json.dumps(json_data))"
   ]
  },
  {
   "cell_type": "code",
   "execution_count": null,
   "id": "e66bdcf5",
   "metadata": {},
   "outputs": [],
   "source": []
  },
  {
   "cell_type": "code",
   "execution_count": null,
   "id": "d20a1b29",
   "metadata": {},
   "outputs": [],
   "source": []
  }
 ],
 "metadata": {
  "kernelspec": {
   "display_name": "Python 3 (ipykernel)",
   "language": "python",
   "name": "python3"
  },
  "language_info": {
   "codemirror_mode": {
    "name": "ipython",
    "version": 3
   },
   "file_extension": ".py",
   "mimetype": "text/x-python",
   "name": "python",
   "nbconvert_exporter": "python",
   "pygments_lexer": "ipython3",
   "version": "3.9.7"
  }
 },
 "nbformat": 4,
 "nbformat_minor": 5
}
